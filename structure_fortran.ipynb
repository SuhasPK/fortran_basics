{
 "cells": [
  {
   "cell_type": "markdown",
   "metadata": {},
   "source": [
    "## Structure of a Fortran Program\n",
    "\n",
    "#### <u>Outline</u>\n",
    "\n",
    "1. <span style=\"color:red;\">program name</span> statement\n",
    "2. <span style=\"color:red;\">use</span> statements\n",
    "3. Implicit declarations\n",
    "4. Variable, derived type,  and interface declaration\n",
    "5. Executables statements\n",
    "6. A <span style=\"color:red;\"> contains </span> statement, followed by prcedure declarations\n",
    "7. <span style=\"color:red;\">end program</span> statement "
   ]
  },
  {
   "cell_type": "markdown",
   "metadata": {},
   "source": [
    "## Case  Insensitive\n",
    "\n",
    "- The following are all equovalent\n",
    "\n",
    "    <span style=\"color:red;\">\n",
    "    one_thing = another_thing <br>\n",
    "    ONE_THING = ANOTHER_THING <br>\n",
    "    One_Thing = Another_Thing <br>\n",
    "    OnE_ThInG = AnOtHeR_ThInG\n",
    "    </span>"
   ]
  },
  {
   "cell_type": "raw",
   "metadata": {},
   "source": [
    "## Insignificant White Space\n",
    "\n",
    "1.  if(var1==var2)then\n",
    "    do i=1,10\n",
    "    thing=thing+i\n",
    "    enddo\n",
    "    endif\n",
    "\n",
    "2.  if (var1 == var2) then\n",
    "        do i = 1, 10\n",
    "            thing = thing + i\n",
    "        end do\n",
    "    end if"
   ]
  },
  {
   "cell_type": "markdown",
   "metadata": {},
   "source": [
    "## Implicit Statements\n",
    "\n",
    "<span style=\"color:red;\">implicit none</span>\n",
    "<br>\n",
    "or\n",
    "<br>\n",
    "<span style=\"color:red;\">implicit type 'a-z'</span>\n",
    "<br>\n",
    "- You should have an implict none statement in the code, with inplicit type 'a-z', variables that start with a letter in the given range are assumed to be of that type unless declared otherwise and if you don't include an implicit none satement then there are a handful that are already implied by default."
   ]
  },
  {
   "cell_type": "markdown",
   "metadata": {},
   "source": [
    "## Variable Declaration\n",
    "\n",
    "<span style=\"color:red;\"> real[([kind=]4)][,some[,attr]] :: var[,etc[ thing]] </span> --> intrinsic type \n",
    "<br>\n",
    "<span style=\"color:red;\"> type(derived_name)[,some[,attr]] :: var[, etc[=thing]] </span> --> derived type"
   ]
  },
  {
   "cell_type": "markdown",
   "metadata": {},
   "source": [
    "## Executables Statements\n",
    "\n",
    "<span style=\"color:red;\">some_variable = some_expression</span>\n",
    "<br>\n",
    "OR\n",
    "<br>\n",
    "<span style=\"color:red;\">call a_subroutine[(with,some,args)]</span>\n",
    "<br>\n",
    "OR some others\n"
   ]
  }
 ],
 "metadata": {
  "kernelspec": {
   "display_name": "Python 3.9.12 ('base')",
   "language": "python",
   "name": "python3"
  },
  "language_info": {
   "name": "python",
   "version": "3.9.12"
  },
  "orig_nbformat": 4,
  "vscode": {
   "interpreter": {
    "hash": "d8d16258aa29ba937225ff31fbfa171b6a6cb8f9fd4587ef21ac412fa1840546"
   }
  }
 },
 "nbformat": 4,
 "nbformat_minor": 2
}
